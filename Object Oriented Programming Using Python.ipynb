{
 "cells": [
  {
   "cell_type": "code",
   "execution_count": null,
   "id": "73e35661",
   "metadata": {},
   "outputs": [],
   "source": [
    "#Class and Object\n",
    "class expenses:\n",
    "    \"This is a Class to do expense Tracking\"\n",
    "    def __init__(self):\n",
    "        pass"
   ]
  },
  {
   "cell_type": "code",
   "execution_count": null,
   "id": "f0604704",
   "metadata": {},
   "outputs": [],
   "source": [
    "object1=expenses() #How You create an Object"
   ]
  },
  {
   "cell_type": "code",
   "execution_count": null,
   "id": "c3ae9b2a",
   "metadata": {},
   "outputs": [],
   "source": [
    "#A class for expense calculation\n",
    "class expenses:\n",
    "    \"This is a Class to do expense Tracking\"\n",
    "    def __init__(self,date,description,transaction,amount):\n",
    "        self.date=date #self shows the instance of the class to call the values coming outside of the class\n",
    "        self.description=description\n",
    "        self.transaction=transaction\n",
    "        self.amount=amount"
   ]
  },
  {
   "cell_type": "code",
   "execution_count": null,
   "id": "8bf734b9",
   "metadata": {},
   "outputs": [],
   "source": [
    "object2=expenses(\"7th feb\",\"Dinner with friends\",\"debit\",\"800\")"
   ]
  },
  {
   "cell_type": "code",
   "execution_count": null,
   "id": "5f16c728",
   "metadata": {},
   "outputs": [],
   "source": [
    "object2.description"
   ]
  },
  {
   "cell_type": "code",
   "execution_count": null,
   "id": "e995fdf6",
   "metadata": {},
   "outputs": [],
   "source": [
    "object3=expenses(\"1st jan\",\"salary credited\",\"credited\",\"20000\")"
   ]
  },
  {
   "cell_type": "code",
   "execution_count": null,
   "id": "37ce91ab",
   "metadata": {},
   "outputs": [],
   "source": [
    "object2.__dict__ "
   ]
  },
  {
   "cell_type": "code",
   "execution_count": null,
   "id": "896cb299",
   "metadata": {},
   "outputs": [],
   "source": [
    "getattr(object2,\"transaction\")"
   ]
  },
  {
   "cell_type": "markdown",
   "id": "36258c62",
   "metadata": {},
   "source": [
    "Similarly like Dict, there are get attributes (getattr), delete attributes(delattr)."
   ]
  },
  {
   "cell_type": "markdown",
   "id": "cbb60a32",
   "metadata": {},
   "source": [
    "As well as The class attributes doesnt change for all of the objects created since it is not globally assigned.\n",
    "So, if we try to alter class attributes it would be changed only for that particular object."
   ]
  },
  {
   "cell_type": "code",
   "execution_count": null,
   "id": "e646ad15",
   "metadata": {},
   "outputs": [],
   "source": [
    "#Instance/Static Methods.\n",
    "class expenses:\n",
    "    \"This is a Class to do expense Tracking\"\n",
    "    expenses_version=0.1\n",
    "    def __init__(self,date,description,transaction,amount):\n",
    "        self.date=date #self shows the instance of the class to call the values coming outside of the class\n",
    "        self.description=description\n",
    "        self.transaction=transaction\n",
    "        self.amount=amount\n",
    "    #Instance method set instance value for different object\n",
    "    def get_original(self):\n",
    "        return self.amount\n",
    "    #Instance Method again\n",
    "    def check_balance(self,limit=20000):\n",
    "        if self.amount>=limit:\n",
    "            return True\n",
    "        else:\n",
    "            return \"Your transaction was less than 20000\"\n",
    "    @staticmethod #This is How you create static methods with \"@\" and keyword \"staticmethod\".\n",
    "    def convert_amount(amount):\n",
    "        return float(amount)"
   ]
  },
  {
   "cell_type": "code",
   "execution_count": null,
   "id": "31da58e2",
   "metadata": {},
   "outputs": [],
   "source": [
    "obj1=expenses(\"12th feb\",\"Salary amoutn\",\"iphone\",50000)\n",
    "obj2=expenses(\"14th fec\",\"Salary amount\",\"Hotel bought\",10000)"
   ]
  },
  {
   "cell_type": "code",
   "execution_count": null,
   "id": "0e86bd22",
   "metadata": {},
   "outputs": [],
   "source": [
    "obj1.get_original()"
   ]
  },
  {
   "cell_type": "code",
   "execution_count": null,
   "id": "f24339a2",
   "metadata": {},
   "outputs": [],
   "source": [
    "obj1.check_balance(limit=100000)"
   ]
  },
  {
   "cell_type": "code",
   "execution_count": null,
   "id": "e4fa55c1",
   "metadata": {},
   "outputs": [],
   "source": [
    "obj2.check_balance()"
   ]
  },
  {
   "cell_type": "code",
   "execution_count": null,
   "id": "17ea503a",
   "metadata": {},
   "outputs": [],
   "source": [
    "obj1.convert_amount(100000)"
   ]
  },
  {
   "cell_type": "code",
   "execution_count": null,
   "id": "fe2a3758",
   "metadata": {},
   "outputs": [],
   "source": [
    "#Class Methods.\n",
    "class expenses:\n",
    "    \"This is a Class to do expense Tracking\"\n",
    "    expenses_version=0.1\n",
    "    \n",
    "    def __init__(self,date,description,transaction,amount):\n",
    "        self.date=date #self shows the instance of the class to call the values coming outside of the class\n",
    "        self.description=description\n",
    "        self.transaction=transaction\n",
    "        self.amount=amount\n",
    "    \n",
    "    #Instance method set instance value for different object\n",
    "    def get_original(self):\n",
    "        return self.amount\n",
    "    \n",
    "    #Instance Method again\n",
    "    def check_balance(self,limit=20000):\n",
    "        if self.amount>=limit:\n",
    "            return True\n",
    "        else:\n",
    "            return \"Your transaction was less than 20000\"\n",
    "    \n",
    "    @staticmethod #This is How you create static methods with \"@\" and keyword \"staticmethod\".\n",
    "    def convert_amount(amount):\n",
    "        return float(amount)\n",
    "    \n",
    "    #Factory Method - can produce an expense instance. Like factories are able to produce something.\n",
    "    @classmethod\n",
    "    def get_attributes_from_string(cls,diary_entry:str):\n",
    "        date,description,transaction,amount=diary_entry.split(\" \")\n",
    "        \n",
    "        \n",
    "        return expenses(date,description.capitalize(),transaction,cls.convert_amount(amount))\n",
    "    "
   ]
  },
  {
   "cell_type": "code",
   "execution_count": null,
   "id": "ae0ea585",
   "metadata": {},
   "outputs": [],
   "source": [
    "classObject= expenses.get_attributes_from_string(\"12th feb Salary 50000\")"
   ]
  },
  {
   "cell_type": "code",
   "execution_count": null,
   "id": "fba4c4f8",
   "metadata": {},
   "outputs": [],
   "source": [
    "classObject.__dict__"
   ]
  },
  {
   "cell_type": "code",
   "execution_count": null,
   "id": "840049ea",
   "metadata": {},
   "outputs": [],
   "source": [
    "#Access Modifiers and their wide variety Private, Public and Protected.\n",
    "#There are two kind of modifiers in python - PUBLIC and PRIVATE.\n",
    "#All members in python are PUBLIC by default\n",
    "\n",
    "#Class Methods.\n",
    "class expenses:\n",
    "    \"This is a Class to do expense Tracking\"\n",
    "    expenses_version=0.1\n",
    "    \n",
    "    def __init__(self,date,description,transaction,amount):\n",
    "        #Public Attributes\n",
    "        self.date=date #self shows the instance of the class to call the values coming outside of the class\n",
    "        self.description=description\n",
    "        #Private Attributes\n",
    "        self.__transaction=transaction #By putting double underscores you have jst made it PRIVATE\n",
    "        self.__amount=amount\n",
    "    \n",
    "    #Instance method set instance value for different object\n",
    "    #Private Method.\n",
    "    def __get_original(self):\n",
    "        return self.__amount\n",
    "    \n",
    "    #Instance Method again\n",
    "    def check_balance(self,limit=20000):\n",
    "        if self.amount>=limit:\n",
    "            return True\n",
    "        else:\n",
    "            return \"Your transaction was less than 20000\"\n",
    "    \n",
    "    @staticmethod #This is How you create static methods with \"@\" and keyword \"staticmethod\".\n",
    "    def convert_amount(amount):\n",
    "        return float(amount)\n",
    "    \n",
    "    #Factory Method - can produce an expense instance. Like factories are able to produce something.\n",
    "    @classmethod\n",
    "    def get_attributes_from_string(cls,diary_entry:str):\n",
    "        date,description,transaction,amount=diary_entry.split(\" \")\n",
    "        \n",
    "        \n",
    "        return expenses(date,description.capitalize(),transaction,cls.convert_amount(amount))"
   ]
  },
  {
   "cell_type": "code",
   "execution_count": null,
   "id": "82a34b42",
   "metadata": {},
   "outputs": [],
   "source": [
    "home =expenses(\"23th jan\",\"bank\",\"Happy thanks giving\",1000)"
   ]
  },
  {
   "cell_type": "code",
   "execution_count": null,
   "id": "1bf1ec13",
   "metadata": {},
   "outputs": [],
   "source": [
    "home.date"
   ]
  },
  {
   "cell_type": "code",
   "execution_count": null,
   "id": "54ab79b8",
   "metadata": {},
   "outputs": [],
   "source": [
    "home.amount #Error occured due to it was private"
   ]
  },
  {
   "cell_type": "code",
   "execution_count": null,
   "id": "fa01fbff",
   "metadata": {},
   "outputs": [],
   "source": [
    "home.get_original  ## The method is also not accessible because of private"
   ]
  },
  {
   "cell_type": "code",
   "execution_count": null,
   "id": "d2ee8843",
   "metadata": {},
   "outputs": [],
   "source": [
    "home.__dict__"
   ]
  },
  {
   "cell_type": "code",
   "execution_count": null,
   "id": "1bbdf621",
   "metadata": {},
   "outputs": [],
   "source": [
    "home._expenses__transaction # this is how you access attributes \"_classname__Atrribute\""
   ]
  },
  {
   "cell_type": "code",
   "execution_count": null,
   "id": "30661432",
   "metadata": {},
   "outputs": [],
   "source": [
    "#another example for attribute\n",
    "home._expenses__amount"
   ]
  },
  {
   "cell_type": "code",
   "execution_count": null,
   "id": "7a49ba86",
   "metadata": {},
   "outputs": [],
   "source": [
    "home._expenses__get_original() # This is how  you access private class and get the corresponding value."
   ]
  },
  {
   "cell_type": "code",
   "execution_count": null,
   "id": "c8c8f09b",
   "metadata": {},
   "outputs": [],
   "source": [
    "class Student:\n",
    "     def __init__(self,name,age):\n",
    "        self.__name = name\n",
    "        self.age = age\n",
    "        \n",
    "     def print_student_details(self):\n",
    "        print(self.__name, end=\" \")\n",
    "        print(self.age)\n",
    "s = Student(\"Rohan\",20)\n",
    "s.print_student_details()"
   ]
  },
  {
   "cell_type": "code",
   "execution_count": null,
   "id": "640e477c",
   "metadata": {},
   "outputs": [],
   "source": [
    "#Inheritance\n",
    "#Parent Class\n",
    "class Vehicle():\n",
    "    def __init__(self,make,model,fuel):\n",
    "        self.make=make\n",
    "        self.model=model\n",
    "        self.fuel=fuel"
   ]
  },
  {
   "cell_type": "code",
   "execution_count": null,
   "id": "3525d252",
   "metadata": {},
   "outputs": [],
   "source": [
    "#Child Class\n",
    "class Car(Vehicle): #This is how you inherit from the parent class into the child class. by putting parent class name inside child class.\n",
    "    def __init__(self,make,model,fuel,airconditioning,sunroof):\n",
    "        #Parent Attributes\n",
    "        Vehicle.make=make # we cant use self for make,model and fuel\n",
    "        Vehicle.model=model\n",
    "        Vehicle.fuel=fuel\n",
    "        \n",
    "        #Child Attributes\n",
    "        self.airconditioning=airconditioning\n",
    "        self.sunroof=sunroof\n",
    "    def show_parent_attributes(self):\n",
    "        print(Vehicle.make,\" \",Vehicle.model,\" \",Vehicle.fuel)"
   ]
  },
  {
   "cell_type": "code",
   "execution_count": null,
   "id": "d1e4331b",
   "metadata": {},
   "outputs": [],
   "source": [
    "myobj=Car(\"Tesla\",2021,\"Electric\",True,True)"
   ]
  },
  {
   "cell_type": "code",
   "execution_count": null,
   "id": "1af97f22",
   "metadata": {},
   "outputs": [],
   "source": [
    "myobj.__dict__ #As you see only airconditioning and sunroof attributes and not the parent attributes."
   ]
  },
  {
   "cell_type": "code",
   "execution_count": null,
   "id": "10ae7ac4",
   "metadata": {},
   "outputs": [],
   "source": [
    "myobj.show_parent_attributes() #A method to print the parent attributes inside the child class"
   ]
  },
  {
   "cell_type": "code",
   "execution_count": null,
   "id": "a62f5e64",
   "metadata": {},
   "outputs": [],
   "source": [
    "myobj.make #you can simply use the attributes"
   ]
  },
  {
   "cell_type": "code",
   "execution_count": null,
   "id": "4274453a",
   "metadata": {},
   "outputs": [],
   "source": [
    "#Inheritance and Private Member similar to Above.\n",
    "#Parent Class\n",
    "class Vehicle():\n",
    "    def __init__(self,make,model,fuel):\n",
    "        self.make=make\n",
    "        #Private                                  #Protected attributes are denoted by single underscore _variablename\n",
    "        self.__model=model                        #Private attributes are denoted by double underscore __variablename\n",
    "        self.__fuel=fuel\n",
    "    def __private_method_parent(self):\n",
    "        print(\"This is Private\")"
   ]
  },
  {
   "cell_type": "code",
   "execution_count": null,
   "id": "d41c4aac",
   "metadata": {},
   "outputs": [],
   "source": [
    "#Child Class\n",
    "class Car(Vehicle): #This is how you inherit from the parent class into the child class. by putting parent class name inside child class.\n",
    "    def __init__(self,make,model,fuel,airconditioning,sunroof):\n",
    "        #Parent Attributes\n",
    "        Vehicle.make=make # we cant use self for make,model and fuel\n",
    "        Vehicle.__model=model\n",
    "        Vehicle.__fuel=fuel\n",
    "        \n",
    "        #Child Attributes\n",
    "        self.airconditioning=airconditioning\n",
    "        self.sunroof=sunroof\n",
    "    def show_parent_attributes(self):\n",
    "        print(Vehicle.make,\" \",Vehicle.__model,\" \",Vehicle.__fuel)\n",
    "    def show_privatemethod_ofparent(self):\n",
    "        self._Vehicle__private_method_parent() # this way we can access _parentclassname__accessmodifier"
   ]
  },
  {
   "cell_type": "code",
   "execution_count": null,
   "id": "4d18c495",
   "metadata": {},
   "outputs": [],
   "source": [
    "myobj1=Car(\"Audi\",2021,\"Electric\",True,True)"
   ]
  },
  {
   "cell_type": "code",
   "execution_count": null,
   "id": "bf2b2062",
   "metadata": {},
   "outputs": [],
   "source": [
    "myobj1.__dict__"
   ]
  },
  {
   "cell_type": "code",
   "execution_count": null,
   "id": "152e72be",
   "metadata": {},
   "outputs": [],
   "source": [
    "myobj1.show_parent_attributes()"
   ]
  },
  {
   "cell_type": "code",
   "execution_count": null,
   "id": "5dbe58ad",
   "metadata": {},
   "outputs": [],
   "source": [
    "myobj1.make # well, make is public so you can access it."
   ]
  },
  {
   "cell_type": "code",
   "execution_count": null,
   "id": "4ff4ae11",
   "metadata": {},
   "outputs": [],
   "source": [
    "myobj1.model # This error is because the attribute is in private and it has a security layernow."
   ]
  },
  {
   "cell_type": "code",
   "execution_count": null,
   "id": "9d63292c",
   "metadata": {},
   "outputs": [],
   "source": [
    "myobj1.__model #you can have a security layer. You cannot access directly with private method."
   ]
  },
  {
   "cell_type": "code",
   "execution_count": null,
   "id": "e9f1ead8",
   "metadata": {},
   "outputs": [],
   "source": [
    "myobj1.__private_method_parent() #Even accessing a method gives us the error as the parent class has its security over private elements."
   ]
  },
  {
   "cell_type": "code",
   "execution_count": null,
   "id": "d14791e6",
   "metadata": {},
   "outputs": [],
   "source": [
    "myobj1.show_privatemethod_ofparent() #By creating a method in child class to access the private class present in the parent class we can access the public class."
   ]
  },
  {
   "cell_type": "code",
   "execution_count": null,
   "id": "6b796147",
   "metadata": {},
   "outputs": [],
   "source": [
    "class Vehicle:\n",
    "    def __init__(self,color):\n",
    "            self.__color = color\n",
    "class Car(Vehicle):\n",
    "    def __init__(self,color,numGears):\n",
    "        super().__init__(color)\n",
    "        self.numGears = numGears\n",
    "    def printCar(self):\n",
    "        print(c.__color,end=\"\")\n",
    "        print(c.numGears)\n",
    "c = Car(\"black\",5)\n",
    "c.printCar()"
   ]
  },
  {
   "cell_type": "markdown",
   "id": "eff55465",
   "metadata": {},
   "source": [
    "Super() is the important OOP Feature in Python\n",
    "-The super function returns a temporary object of the superclass(parentclass) that allows access to all of its methods to its child class.\n",
    "-It also reduces the number of lines in a code. Like it brings flexibility to the code.\n",
    "Syntax :- super(classname of the child, self).__init__(any method or attributes)"
   ]
  },
  {
   "cell_type": "code",
   "execution_count": null,
   "id": "2a3e0b1b",
   "metadata": {},
   "outputs": [],
   "source": [
    "#Parent Class\n",
    "class Vehicle():\n",
    "    def __init__(self,make,model,fuel):\n",
    "        self.make=make\n",
    "        #Private                                  #Protected attributes are denoted by single underscore _variablename\n",
    "        self.__model=model                        #Private attributes are denoted by double underscore __variablename\n",
    "        self.__fuel=fuel\n",
    "    def __private_method_parent(self):\n",
    "        print(\"This is Private\")"
   ]
  },
  {
   "cell_type": "code",
   "execution_count": null,
   "id": "c2feb5dd",
   "metadata": {},
   "outputs": [],
   "source": [
    "#Child Class\n",
    "class Car(Vehicle): #This is how you inherit from the parent class into the child class. by putting parent class name inside child class.\n",
    "    def __init__(self,make,model,fuel,airconditioning,sunroof):\n",
    "        #Parent Attributes\n",
    "        \n",
    "        super(Car,self).__init__(make,model,fuel)\n",
    "        #self here helps us maintain the child instance specific parent class attribute.\n",
    "        \n",
    "        \n",
    "#         Vehicle.make=make \n",
    "#         Vehicle.__model=model\n",
    "#         Vehicle.__fuel=fuel\n",
    "        \n",
    "        #Child Attributes\n",
    "        self.airconditioning=airconditioning\n",
    "        self.sunroof=sunroof\n",
    "#     def show_parent_attributes(self):\n",
    "#         print(Vehicle.make,\" \",Vehicle.__model,\" \",Vehicle.__fuel)\n",
    "\n",
    "#     def show_privatemethod_ofparent(self):\n",
    "#         self._Vehicle__private_method_parent() # this way we can access _parentclassname__accessmodifier"
   ]
  },
  {
   "cell_type": "code",
   "execution_count": null,
   "id": "fce0f6b2",
   "metadata": {},
   "outputs": [],
   "source": [
    "myobj3=Car(\"Buggati\",2021,\"Electric\",True,True)"
   ]
  },
  {
   "cell_type": "code",
   "execution_count": null,
   "id": "f8282065",
   "metadata": {},
   "outputs": [],
   "source": [
    "myobj3.__dict__ #All the parent attributes and instance specific attributes."
   ]
  },
  {
   "cell_type": "code",
   "execution_count": null,
   "id": "89804658",
   "metadata": {},
   "outputs": [],
   "source": [
    "myobj3._Vehicle__private_method_parent() #We get the private method access too when we use super keyword"
   ]
  },
  {
   "cell_type": "markdown",
   "id": "4f9d0e5b",
   "metadata": {},
   "source": [
    "Polymorphism - Ability of a behaviour in different forms for example:- A person can be a Father,Engineer,Good,Bad etc."
   ]
  },
  {
   "cell_type": "code",
   "execution_count": null,
   "id": "5509880c",
   "metadata": {},
   "outputs": [],
   "source": [
    "1+2 #this case it is adding the integers"
   ]
  },
  {
   "cell_type": "code",
   "execution_count": null,
   "id": "54ff4cf9",
   "metadata": {},
   "outputs": [],
   "source": [
    "\"a\"+\"b\" #this case it is adding the strings"
   ]
  },
  {
   "cell_type": "code",
   "execution_count": null,
   "id": "6bc817ee",
   "metadata": {},
   "outputs": [],
   "source": [
    "len([1,2,3,4,5]) #length of a list."
   ]
  },
  {
   "cell_type": "code",
   "execution_count": null,
   "id": "2736857b",
   "metadata": {},
   "outputs": [],
   "source": [
    "len(\"abscsdf\") #length of a string."
   ]
  },
  {
   "cell_type": "code",
   "execution_count": null,
   "id": "b13a14fe",
   "metadata": {},
   "outputs": [],
   "source": [
    "#Method Overiding - The default method is over ridden and the other method with same name would be implemented.\n",
    "#How you define the default method the child method which overrides should be similar like the default method but differ from function/same.\n",
    "#Parent Class\n",
    "class Vehicle():\n",
    "    currentyear=2022\n",
    "    baseprice=10000\n",
    "    def __init__(self,make,model,fuel):\n",
    "        self.make=make\n",
    "        #Private                                \n",
    "        self.__model=model\n",
    "        self.__fuel=fuel\n",
    "    def __private_method_parent(self):\n",
    "        print(\"This is Private\")\n",
    "    \n",
    "    #default method inside of the parent class\n",
    "    def get_value(self):\n",
    "        age=Vehicle.currentyear-self._Vehicle__model\n",
    "        print(\"This is the default Method inside Parent cLASS\")\n",
    "        return Vehicle.baseprice*(1/age)"
   ]
  },
  {
   "cell_type": "code",
   "execution_count": null,
   "id": "94de614a",
   "metadata": {},
   "outputs": [],
   "source": [
    "#Child Class\n",
    "class Car(Vehicle): \n",
    "    def __init__(self,make,model,fuel,airconditioning,sunroof):\n",
    "        \n",
    "        super(Car,self).__init__(make,model,fuel)\n",
    "        #Child Attributes\n",
    "        self.airconditioning=airconditioning\n",
    "        self.sunroof=sunroof\n",
    "    \n",
    "    #Overriding Method - Replaces the parent default method    \n",
    "    def get_value(self):\n",
    "        Vehicle.baseprice=12000\n",
    "        age=Vehicle.currentyear-self.__model\n",
    "        print(\"This is the Overriden method inside the child class\")\n",
    "        return Vehicle.baseprice*(age)"
   ]
  },
  {
   "cell_type": "code",
   "execution_count": null,
   "id": "4b7df343",
   "metadata": {},
   "outputs": [],
   "source": [
    "myobj4=Car(\"M Benz\",2022,\"Electric\",True,True)"
   ]
  },
  {
   "cell_type": "code",
   "execution_count": null,
   "id": "00663a5e",
   "metadata": {},
   "outputs": [],
   "source": [
    "myobj4.get_value()"
   ]
  },
  {
   "cell_type": "code",
   "execution_count": null,
   "id": "6198d93b",
   "metadata": {},
   "outputs": [],
   "source": [
    "myparentobject=Vehicle(\"Ford\",2018,\"Petrol\")"
   ]
  },
  {
   "cell_type": "code",
   "execution_count": null,
   "id": "e3b994de",
   "metadata": {},
   "outputs": [],
   "source": [
    "myparentobject.get_value()"
   ]
  },
  {
   "cell_type": "code",
   "execution_count": null,
   "id": "55d3a601",
   "metadata": {},
   "outputs": [],
   "source": [
    "#Example\n",
    "class Vehicle:\n",
    "    def __init__(self,color):\n",
    "        self.color = color\n",
    "    def print(self):\n",
    "        print(self.color,end=\"\")\n",
    "class Car(Vehicle):\n",
    "    def __init__(self,color,numGears):\n",
    "        super().__init__(color)\n",
    "        self.numGears = numGears\n",
    "    def print(self):\n",
    "       print(self.color,end=\"\")\n",
    "       print(self.numGears)\n",
    "c = Car(\"black\",5)\n",
    "c.print()"
   ]
  },
  {
   "cell_type": "code",
   "execution_count": null,
   "id": "3d0f26de",
   "metadata": {},
   "outputs": [],
   "source": [
    "class Vehicle: ##Recursion error\n",
    "    def __init__(self,color):\n",
    "        self.color = color\n",
    "    def print(self):\n",
    "        print(c.color,end=\"\")\n",
    "class Car(Vehicle):\n",
    "    def __init__(self,color,numGears):\n",
    "        super().__init__(color)\n",
    "        self.numGears = numGears\n",
    "    def print(self):\n",
    "        self.print()\n",
    "        print(c.numGears)\n",
    "c = Car(\"black\",5)\n",
    "c.print()"
   ]
  },
  {
   "cell_type": "code",
   "execution_count": null,
   "id": "cb76a1d3",
   "metadata": {},
   "outputs": [],
   "source": [
    "#Protected Members - usually declared by single underscore _variablename\n",
    "#Parent Class\n",
    "class Vehicle():\n",
    "    \n",
    "    #Class attributes\n",
    "    currentyear=2022\n",
    "    baseprice=10000\n",
    "    \n",
    "    def __init__(self,make,model,fuel):\n",
    "        self.make=make\n",
    "        \n",
    "        #Protected attributes                               \n",
    "        self._model=model\n",
    "        self._fuel=fuel\n",
    "        \n",
    "    #default method inside of the parent class\n",
    "    def get_value(self):\n",
    "        age=Vehicle.currentyear-self.model\n",
    "        print(\"This is the default Method inside Parent cLASS\")\n",
    "        return Vehicle.baseprice*(1/age)\n",
    "\n"
   ]
  },
  {
   "cell_type": "code",
   "execution_count": null,
   "id": "98a1027e",
   "metadata": {},
   "outputs": [],
   "source": [
    "#Child Class\n",
    "class Car(Vehicle): \n",
    "    def __init__(self,make,model,fuel,airconditioning,sunroof):\n",
    "        \n",
    "        super(Car,self).__init__(make,model,fuel)\n",
    "        #Child Attributes\n",
    "        self._airconditioning=airconditioning\n",
    "        self._sunroof=sunroof\n",
    "    \n",
    "    #Overriding Method - Replaces the parent default method   \n",
    "    #Protected method\n",
    "    def _get_value(self):\n",
    "        Vehicle.baseprice=1200\n",
    "        age=Vehicle.currentyear-self._model\n",
    "        print(\"This is the Overriden method inside the child class\")\n",
    "        return Vehicle.baseprice*(age)"
   ]
  },
  {
   "cell_type": "code",
   "execution_count": null,
   "id": "a6e55751",
   "metadata": {},
   "outputs": [],
   "source": [
    "myObject=Car(\"Hyundai\",2022,\"Petrol\",True,True)"
   ]
  },
  {
   "cell_type": "code",
   "execution_count": null,
   "id": "fc1b92d3",
   "metadata": {},
   "outputs": [],
   "source": [
    "myObject._airconditioning #this is  how you access protected values or methods"
   ]
  },
  {
   "cell_type": "code",
   "execution_count": null,
   "id": "c1ba0560",
   "metadata": {},
   "outputs": [],
   "source": [
    "myObject._sunroof"
   ]
  },
  {
   "cell_type": "code",
   "execution_count": null,
   "id": "7d2f28f5",
   "metadata": {},
   "outputs": [],
   "source": [
    "myObject._get_value()"
   ]
  },
  {
   "cell_type": "markdown",
   "id": "8f920c7e",
   "metadata": {},
   "source": [
    "Python Programmers, should be mature enough to stay away from Private and Protected members. If they are defined, there should not be any force rule of accessibility to stop you."
   ]
  },
  {
   "cell_type": "markdown",
   "id": "ce594c3e",
   "metadata": {},
   "source": [
    "Object Class - By default every class inherits from Object class\n",
    "There are 3 methods that object class provides.\n",
    "1) \"__init__\" - Used to initialize objects also we override this object\n",
    "2) \"__new__\"  - Used to create new objects\n",
    "3) \"__str__\"  - Used to Over ride the object."
   ]
  },
  {
   "cell_type": "code",
   "execution_count": null,
   "id": "e7dbc7a3",
   "metadata": {},
   "outputs": [],
   "source": [
    "class Circle(object):\n",
    "    def __init__(self,radius):\n",
    "        self.radius=radius\n",
    "        \n",
    "c=Circle(3)\n",
    "print(c) #This is where the object is stored."
   ]
  },
  {
   "cell_type": "code",
   "execution_count": null,
   "id": "89db9c28",
   "metadata": {},
   "outputs": [],
   "source": [
    "class Circle(object):\n",
    "    def __init__(self,radius):\n",
    "        self.radius=radius\n",
    "    def __str__(self):  #Object method simply over rides the class and provides description/necessary operation which is better than the above\n",
    "        return \"this is a circle class which takes radius as a Argument\"\n",
    "c=Circle(3)\n",
    "print(c) #This is where the object is stored."
   ]
  },
  {
   "cell_type": "code",
   "execution_count": null,
   "id": "f0baaf46",
   "metadata": {},
   "outputs": [],
   "source": [
    "#Multi Level Inheritance.\n",
    "#Parent Class\n",
    "class Vehicle():\n",
    "    \n",
    "    def __init__(self,make,model,fuel):\n",
    "        self.make=make                      \n",
    "        self.model=model\n",
    "        self.fuel=fuel\n",
    "#Child Class\n",
    "class Car(Vehicle): \n",
    "    def __init__(self,make,model,fuel,airconditioning,sunroof):\n",
    "        \n",
    "        super(Car,self).__init__(make,model,fuel)\n",
    "        \n",
    "        #Child Attributes\n",
    "        self._airconditioning=airconditioning\n",
    "        self._sunroof=sunroof\n",
    "\n",
    "class ElectricVehicle(Car):\n",
    "    def __init__(self,make,model,fuel,airconditioning,sunroof,distance):\n",
    "        super(ElectricVehicle,self).__init__(make,model,fuel,airconditioning,sunroof)\n",
    "        \n",
    "        #Child Attributes\n",
    "        self.distance=distance\n",
    "        \n",
    "myobject=ElectricVehicle(\"Tesla\",2022,\"Petrol\",True,True,40000)\n",
    "myobject.__dict__"
   ]
  },
  {
   "cell_type": "markdown",
   "id": "c55b731a",
   "metadata": {},
   "source": [
    "Method Resolution Order- Consider it like an execution plan for execution of methods."
   ]
  },
  {
   "cell_type": "code",
   "execution_count": null,
   "id": "0a0ed04f",
   "metadata": {},
   "outputs": [],
   "source": [
    "class Car():\n",
    "    def __init__(self,make,model,fuel):\n",
    "        self.make=make\n",
    "        self.model=model\n",
    "        self.fuel=fuel\n",
    "    def get_car_details(self):\n",
    "        return \"the make of the car is\",self.make,\"From car class\"\n",
    "class ElectricCar():\n",
    "    def __init__(self,make,model,fuel):\n",
    "        self.make=make\n",
    "        self.model=model\n",
    "        self.fuel=fuel\n",
    "    \n",
    "    def get_car_details(self):\n",
    "        return \"the make of the car is\",self.make,\"From Electric car class\""
   ]
  },
  {
   "cell_type": "code",
   "execution_count": null,
   "id": "f3c8fc83",
   "metadata": {},
   "outputs": [],
   "source": [
    "class Taxi(Car,ElectricCar): #Multiple Inheritance # The Sequence of Inheritance matters that defines that priority goes for \n",
    "    def __init__(self,make,model,fuel):                 #Car and then ElectricCar we have specified it explicitly.\n",
    "        super().__init__(make,model,fuel)\n",
    "myObj=Taxi(\"Tesla\",2022,\"Electric\")"
   ]
  },
  {
   "cell_type": "code",
   "execution_count": null,
   "id": "1c9f8ed7",
   "metadata": {},
   "outputs": [],
   "source": [
    "myObj.get_car_details()"
   ]
  },
  {
   "cell_type": "code",
   "execution_count": null,
   "id": "654c403e",
   "metadata": {},
   "outputs": [],
   "source": [
    "            Taxi.mro() #This shows the priortity of execution of methods in order.\n",
    "#The mro changes with respect to the explicity we give when the inheritance is done. The Taxi Class (ElectricCar, Car) then priority for ElectricCar is given"
   ]
  },
  {
   "cell_type": "code",
   "execution_count": null,
   "id": "a5c16678",
   "metadata": {
    "scrolled": true
   },
   "outputs": [],
   "source": [
    "Taxi.__mro__ #This is another way to show the method resolution order. Magic Functions. :-)"
   ]
  },
  {
   "cell_type": "code",
   "execution_count": null,
   "id": "f85cb5af",
   "metadata": {
    "scrolled": false
   },
   "outputs": [],
   "source": [
    "class X: pass\n",
    "class Y: pass\n",
    "class Z:pass\n",
    "class A(X,Y):pass\n",
    "class B(Y,Z):pass\n",
    "class C(B,A,Y):pass\n",
    "C.mro()"
   ]
  },
  {
   "cell_type": "markdown",
   "id": "b66eaec7",
   "metadata": {},
   "source": [
    "Now on to Operator Overloading"
   ]
  },
  {
   "cell_type": "markdown",
   "id": "7fe98884",
   "metadata": {},
   "source": [
    "Overload defines the fact that you are trying to change the behaviours of certain methods, There are many overload functions\n",
    "like add,subtract,mulshift, and many more.\n"
   ]
  },
  {
   "cell_type": "code",
   "execution_count": null,
   "id": "492666e6",
   "metadata": {},
   "outputs": [],
   "source": [
    "class Vehicle:\n",
    "    def __init__(self,make,model,fare):\n",
    "        self.make=make\n",
    "        self.model=model\n",
    "        self.fare=fare\n",
    "    \n",
    "    def __str__(self):\n",
    "        return \"The make of the car is {} and model of the car is {} with a fare {} R/M \".format(self.make,self.model,self.fare)\n",
    "    def __add__(self,other):\n",
    "        return self.fare+other.fare\n",
    "    def __sub__(self,other):\n",
    "        return self.fare-other.fare"
   ]
  },
  {
   "cell_type": "code",
   "execution_count": null,
   "id": "098e3fb8",
   "metadata": {},
   "outputs": [],
   "source": [
    "myVehicleobj=Vehicle(\"Bugatti\",2022,90)\n",
    "myVehicleobj1=Vehicle(\"Tesla\",2022,80)"
   ]
  },
  {
   "cell_type": "code",
   "execution_count": null,
   "id": "93421ab8",
   "metadata": {},
   "outputs": [],
   "source": [
    "print(myVehicleobj)"
   ]
  },
  {
   "cell_type": "code",
   "execution_count": null,
   "id": "3e77e140",
   "metadata": {},
   "outputs": [],
   "source": [
    "myVehicleobj+myVehicleobj1 #It says Type error since they are different. so pass two integers i.e add function in the class"
   ]
  },
  {
   "cell_type": "code",
   "execution_count": null,
   "id": "97023ef4",
   "metadata": {},
   "outputs": [],
   "source": [
    "myVehicleobj+myVehicleobj1 #now after declaring the add function in the class you can be able to add the fares so see the difference"
   ]
  },
  {
   "cell_type": "code",
   "execution_count": null,
   "id": "fc7f6ec5",
   "metadata": {},
   "outputs": [],
   "source": [
    "myVehicleobj-myVehicleobj1 #similarly like addition you can provide a subtraction fun and subtract the value."
   ]
  },
  {
   "cell_type": "markdown",
   "id": "412f9884",
   "metadata": {},
   "source": [
    "Abstract Classes and Methods - Blue print for other classes. \n",
    "\n",
    "It allows you to create a set of methods that must be created within any child classes built from the abstract class.\n",
    "\n",
    "A class which contains one or more abstract methods is called an abstract class.\n",
    "\n",
    "An abstract method is a method that has a declaration but does not have an implementation.\n",
    "\n",
    "While we are designing large functional units we use an abstract class.\n",
    "\n",
    "When we want to provide a common interface for different implementations of a component, we use an abstract class. \n",
    "\n"
   ]
  },
  {
   "cell_type": "markdown",
   "id": "ff6fc9a0",
   "metadata": {},
   "source": [
    "Python by default does not provide abstract class but can be implemented using an \"abc\" decorator(Module).\n",
    "\n",
    "Good way to define apis of any given application using OOPS principles to write extendable functionality. like a blue print when we extend the functionality.\n"
   ]
  },
  {
   "cell_type": "code",
   "execution_count": null,
   "id": "b5c11104",
   "metadata": {},
   "outputs": [],
   "source": [
    "from abc import ABC, abstractmethod #Capital ABC is the abstract class and the small abc is the module"
   ]
  },
  {
   "cell_type": "code",
   "execution_count": null,
   "id": "685dc9fc",
   "metadata": {},
   "outputs": [],
   "source": [
    "class Vehicle(ABC):\n",
    "    \n",
    "    @abstractmethod #declaration of abstract class.\n",
    "    def get_value(self):\n",
    "        pass\n",
    "\n",
    "\n",
    "class Car(Vehicle): \n",
    "    def __init__(self,make,model,fare):\n",
    "        self.make=make\n",
    "        self.model=model\n",
    "        self.fare=fare\n",
    "    def get_value(self):\n",
    "        return 1000+self.fare\n",
    "\n",
    "myobj=Car(\"Tesla\",2020,50) #you cant instantiate this when it is an abstract class. before that declare a method as in the abstract method in the child class."
   ]
  },
  {
   "cell_type": "code",
   "execution_count": null,
   "id": "1011089e",
   "metadata": {},
   "outputs": [],
   "source": [
    "myobj.get_value() #all classes should have a blue print or methods declared in the abstract classes. \n",
    "#so that all of the components follow same blueprint and functionality or enhanced one"
   ]
  },
  {
   "cell_type": "code",
   "execution_count": null,
   "id": "527b8504",
   "metadata": {},
   "outputs": [],
   "source": [
    "myObj= Vehicle() #it is an abstract class and this gives error because it assumes it to be a new class."
   ]
  },
  {
   "cell_type": "markdown",
   "id": "3c9d414a",
   "metadata": {},
   "source": [
    "Interface is created in the abstract class and implementation takes place in the derived class\n",
    "\n",
    "In the above example, Interface is created in the Vehicle class and implementation of that interface is done inside the Car class which is defined."
   ]
  },
  {
   "cell_type": "code",
   "execution_count": null,
   "id": "a9270579",
   "metadata": {},
   "outputs": [],
   "source": [
    "from abc import ABC,abstractmethod\n",
    "class TextReaderAbstract(ABC):\n",
    "    \n",
    "    def __init__(self,path,filename):\n",
    "        self.path=path\n",
    "        self.filename=filename\n",
    "    \n",
    "    @abstractmethod  #This is just an Interface or RULE\n",
    "    def get_path(self):\n",
    "        pass\n",
    "    @abstractmethod\n",
    "    def get_filename(self):\n",
    "        pass"
   ]
  },
  {
   "cell_type": "code",
   "execution_count": null,
   "id": "1239a941",
   "metadata": {},
   "outputs": [],
   "source": [
    "class TextReader(TextReaderAbstract):\n",
    "    def get_path(self):\n",
    "        return self.path\n",
    "    def get_filename(self):\n",
    "        return self.filename"
   ]
  },
  {
   "cell_type": "code",
   "execution_count": null,
   "id": "bcd32164",
   "metadata": {},
   "outputs": [],
   "source": [
    "myobj=TextReader() #you cannot create an object without passing arguments."
   ]
  },
  {
   "cell_type": "code",
   "execution_count": null,
   "id": "0066a30d",
   "metadata": {},
   "outputs": [],
   "source": [
    "myobj=TextReader(\"/User/Downloads\",\"sample.txt\")"
   ]
  },
  {
   "cell_type": "code",
   "execution_count": null,
   "id": "cee224a5",
   "metadata": {},
   "outputs": [],
   "source": [
    "myobj.get_path()"
   ]
  },
  {
   "cell_type": "code",
   "execution_count": null,
   "id": "63624cd2",
   "metadata": {},
   "outputs": [],
   "source": [
    "myobj.get_filename()"
   ]
  },
  {
   "cell_type": "code",
   "execution_count": null,
   "id": "3496a882",
   "metadata": {},
   "outputs": [],
   "source": [
    "class Bank(ABC):\n",
    "    @abstractmethod\n",
    "    def get_interest(self):\n",
    "        pass\n",
    "class HDFC(ABC):\n",
    "    def get_interest(self):\n",
    "        return 8.9"
   ]
  },
  {
   "cell_type": "code",
   "execution_count": null,
   "id": "688d2384",
   "metadata": {},
   "outputs": [],
   "source": [
    "MyBank=HDFC()"
   ]
  },
  {
   "cell_type": "code",
   "execution_count": null,
   "id": "99b5d0d2",
   "metadata": {},
   "outputs": [],
   "source": [
    "MyBank.get_interest()"
   ]
  },
  {
   "cell_type": "markdown",
   "id": "bad91b56",
   "metadata": {},
   "source": [
    "Errors and Exceptions - When unexpected operation happens. Handle them correctly\n",
    "1) You should be aware of all possible errors.\n",
    "2) Inbuild way to handle them or tackle them by addressing."
   ]
  },
  {
   "cell_type": "markdown",
   "id": "ce71870b",
   "metadata": {},
   "source": [
    "Recursion error, Indentation error, Syntatical Error(You have to handle this), Exceptional error...They are also logical error or at the time of run."
   ]
  },
  {
   "cell_type": "markdown",
   "id": "db52af27",
   "metadata": {},
   "source": [
    "Type error, Division by zero..."
   ]
  },
  {
   "cell_type": "markdown",
   "id": "0da72285",
   "metadata": {},
   "source": [
    "Intro To Exception Handling.."
   ]
  },
  {
   "cell_type": "code",
   "execution_count": null,
   "id": "58ba93f8",
   "metadata": {},
   "outputs": [],
   "source": [
    "Consider Exception like this first\n",
    "\n",
    "if Condition :\n",
    "    <Our Logic>\n",
    "    \n",
    "else if Exception:\n",
    "    <Alternate Logic>"
   ]
  },
  {
   "cell_type": "code",
   "execution_count": null,
   "id": "c073aa99",
   "metadata": {},
   "outputs": [],
   "source": [
    "try:\n",
    "    a+b\n",
    "except:\n",
    "    int(a)+int(b)"
   ]
  },
  {
   "cell_type": "code",
   "execution_count": null,
   "id": "1dc981f4",
   "metadata": {},
   "outputs": [],
   "source": [
    "class Vehicle:\n",
    "    \n",
    "    def __init__(self,make,model,fuel):\n",
    "        self.make=make\n",
    "        self.model=model\n",
    "        self.fuel=fuel\n",
    "        \n",
    "    def getvalue(self):\n",
    "        try:                          #Handle the type exception using try and except\n",
    "            age=2022-self.model\n",
    "            return 1000*(1/age)\n",
    "        except TypeError:             #Type error change the string to int to continue execution\n",
    "            age=2022-int(self.model)\n",
    "            return 1000*(1/age)\n",
    "        except ZeroDivisionError:     #You should have one try condition only and have multiple Except conditions\n",
    "            age=2022-int(self.model)\n",
    "            return 1000*(1)"
   ]
  },
  {
   "cell_type": "code",
   "execution_count": null,
   "id": "991c47e6",
   "metadata": {},
   "outputs": [],
   "source": [
    "myobj=Vehicle(\"Tesla\",\"2024\",\"Petrol\")#change the value of model to Strings like in the int type"
   ]
  },
  {
   "cell_type": "code",
   "execution_count": null,
   "id": "9f8eb7a3",
   "metadata": {},
   "outputs": [],
   "source": [
    "myobj.getvalue() #You can look at the type error here"
   ]
  },
  {
   "cell_type": "code",
   "execution_count": null,
   "id": "20c63ce4",
   "metadata": {},
   "outputs": [],
   "source": [
    "myobj.getvalue() #After handling the exception inside the getvalue method you have"
   ]
  },
  {
   "cell_type": "code",
   "execution_count": null,
   "id": "db83bbdf",
   "metadata": {},
   "outputs": [],
   "source": [
    "myobj1=Vehicle(\"Tesla\",2022,\"Petrol\")"
   ]
  },
  {
   "cell_type": "code",
   "execution_count": null,
   "id": "6aabe684",
   "metadata": {},
   "outputs": [],
   "source": [
    "myobj1.getvalue() #Now what we get is division by zero error."
   ]
  },
  {
   "cell_type": "code",
   "execution_count": null,
   "id": "6b208cb8",
   "metadata": {},
   "outputs": [],
   "source": [
    "myobj1.getvalue() #After handlin exception of division by zero you get this output 1000 since division by zero is not happening."
   ]
  },
  {
   "cell_type": "markdown",
   "id": "f2593adf",
   "metadata": {},
   "source": [
    "Also you can use pass under exception whatever the exception occurs but it is not intelligent because we have to be more and more Excplicit about the errors so that we have detailed output.\n",
    "try: <conditon> except:pass  #not very intelligent move"
   ]
  },
  {
   "cell_type": "markdown",
   "id": "5e422c68",
   "metadata": {},
   "source": [
    "Handling Multiple Exceptions -"
   ]
  },
  {
   "cell_type": "code",
   "execution_count": null,
   "id": "61d92c19",
   "metadata": {},
   "outputs": [],
   "source": [
    "class Vehicle:\n",
    "    \n",
    "    def __init__(self,make,model,fuel):\n",
    "        self.make=make\n",
    "        self.model=model\n",
    "        self.fuel=fuel\n",
    "        \n",
    "    def getvalue(self):\n",
    "        try:                          #Handle the type exception using try and except\n",
    "            age=2022-self.model\n",
    "            return 1000*(1/age)\n",
    "        except TypeError:\n",
    "            try:\n",
    "                age=2021-int(self.model)\n",
    "                return 1000+(1/age)\n",
    "            except ZeroDivisionError:\n",
    "                age=2021-int(self.model)\n",
    "                return 1000*(1)\n",
    "            except:\n",
    "                return \"You have entered Model Year in incorrect format\""
   ]
  },
  {
   "cell_type": "code",
   "execution_count": null,
   "id": "43e9ca11",
   "metadata": {},
   "outputs": [],
   "source": [
    "myobj5=Vehicle(\"Tesla\",\"new\",\"Electric\") #Ideally There will be error by division zero because of type error"
   ]
  },
  {
   "cell_type": "code",
   "execution_count": null,
   "id": "b8390e89",
   "metadata": {},
   "outputs": [],
   "source": [
    "myobj5.getvalue()  #after handling the error you would get that output"
   ]
  },
  {
   "cell_type": "markdown",
   "id": "5fedc612",
   "metadata": {},
   "source": [
    "Custom Exceptions - Example"
   ]
  },
  {
   "cell_type": "code",
   "execution_count": null,
   "id": "7a19c439",
   "metadata": {},
   "outputs": [],
   "source": [
    "class NegativeCarValue(Exception):\n",
    "    def __init__(self,value,message=\"car value cannot be negative\"):\n",
    "        self.value=value\n",
    "        self.message=message\n",
    "        super().__init__(self.message)\n",
    "    \n",
    "    def __str__(self):\n",
    "        return f'{self.message}-->{self.value}'"
   ]
  },
  {
   "cell_type": "code",
   "execution_count": null,
   "id": "746e7503",
   "metadata": {},
   "outputs": [],
   "source": [
    "a=-1\n",
    "if a<0:\n",
    "    raise NegativeCarValue(a) #Own Exception error as Car value cannot be negative"
   ]
  },
  {
   "cell_type": "code",
   "execution_count": null,
   "id": "8284028c",
   "metadata": {},
   "outputs": [],
   "source": [
    "class Vehicle():\n",
    "    def __init__(self,make,model,fuel):\n",
    "        self.make=make\n",
    "        self.model=model\n",
    "        self.fuel=fuel\n",
    "        self.current_year=2021\n",
    "    def get_value(self):\n",
    "        age=self.current_year-self.model\n",
    "        \n",
    "        if age<0:\n",
    "            raise NegativeCarValue(age)\n",
    "        else:\n",
    "            return 1000*(1/age)"
   ]
  },
  {
   "cell_type": "code",
   "execution_count": null,
   "id": "59ebc7c4",
   "metadata": {},
   "outputs": [],
   "source": [
    "myobj=Vehicle(\"Tesla\",2023,\"electric\")"
   ]
  },
  {
   "cell_type": "code",
   "execution_count": null,
   "id": "77392fd3",
   "metadata": {},
   "outputs": [],
   "source": [
    "myobj.get_value() #while less that the model year"
   ]
  },
  {
   "cell_type": "code",
   "execution_count": null,
   "id": "f7e26ba7",
   "metadata": {},
   "outputs": [],
   "source": [
    "myobj.get_value()#as the value is greater."
   ]
  },
  {
   "cell_type": "markdown",
   "id": "a37214ef",
   "metadata": {},
   "source": [
    "Except Functionality"
   ]
  },
  {
   "cell_type": "code",
   "execution_count": 134,
   "id": "5a89ac79",
   "metadata": {},
   "outputs": [],
   "source": [
    "class NegativeCarValue(Exception):\n",
    "    def __init__(self,value,message=\"car value cannot be negative\"):\n",
    "        self.value=value\n",
    "        self.message=message\n",
    "        super().__init__(self.message)\n",
    "    \n",
    "    def __str__(self):\n",
    "        return f'{self.message}-->{self.value}'"
   ]
  },
  {
   "cell_type": "code",
   "execution_count": 133,
   "id": "b78ccc1a",
   "metadata": {},
   "outputs": [
    {
     "ename": "NegativeCarValue",
     "evalue": "car value cannot be negative-->-1",
     "output_type": "error",
     "traceback": [
      "\u001b[1;31m---------------------------------------------------------------------------\u001b[0m",
      "\u001b[1;31mNegativeCarValue\u001b[0m                          Traceback (most recent call last)",
      "\u001b[1;32m~\\AppData\\Local\\Temp/ipykernel_16208/1211160391.py\u001b[0m in \u001b[0;36m<module>\u001b[1;34m\u001b[0m\n\u001b[0;32m      1\u001b[0m \u001b[0ma\u001b[0m\u001b[1;33m=\u001b[0m\u001b[1;33m-\u001b[0m\u001b[1;36m1\u001b[0m\u001b[1;33m\u001b[0m\u001b[1;33m\u001b[0m\u001b[0m\n\u001b[0;32m      2\u001b[0m \u001b[1;32mif\u001b[0m \u001b[0ma\u001b[0m\u001b[1;33m<\u001b[0m\u001b[1;36m0\u001b[0m\u001b[1;33m:\u001b[0m\u001b[1;33m\u001b[0m\u001b[1;33m\u001b[0m\u001b[0m\n\u001b[1;32m----> 3\u001b[1;33m     \u001b[1;32mraise\u001b[0m \u001b[0mNegativeCarValue\u001b[0m\u001b[1;33m(\u001b[0m\u001b[0ma\u001b[0m\u001b[1;33m)\u001b[0m\u001b[1;33m\u001b[0m\u001b[1;33m\u001b[0m\u001b[0m\n\u001b[0m",
      "\u001b[1;31mNegativeCarValue\u001b[0m: car value cannot be negative-->-1"
     ]
    }
   ],
   "source": [
    "a=-1\n",
    "if a<0:\n",
    "    raise NegativeCarValue(a)"
   ]
  },
  {
   "cell_type": "code",
   "execution_count": 135,
   "id": "88054a6c",
   "metadata": {},
   "outputs": [],
   "source": [
    "class Vehicle():\n",
    "    def __init__(self,make,model,fuel):\n",
    "        self.make=make\n",
    "        self.model=model\n",
    "        self.fuel=fuel\n",
    "        self.current_year=2021\n",
    "    def get_value(self):\n",
    "        age=self.current_year-self.model\n",
    "        try:\n",
    "            if age<0:\n",
    "                raise NegativeCarValue(age)\n",
    "            else:\n",
    "                return 1000*(1/age)\n",
    "        except NegativeCarValue as e:\n",
    "            print(\"Error*******\",e)"
   ]
  },
  {
   "cell_type": "code",
   "execution_count": 136,
   "id": "70c41388",
   "metadata": {},
   "outputs": [],
   "source": [
    "myobj=Vehicle(\"Tesla\",2023,\"electric\")"
   ]
  },
  {
   "cell_type": "code",
   "execution_count": 137,
   "id": "862c9ccc",
   "metadata": {},
   "outputs": [
    {
     "name": "stdout",
     "output_type": "stream",
     "text": [
      "Error******* car value cannot be negative-->-2\n"
     ]
    }
   ],
   "source": [
    "myobj.get_value()"
   ]
  },
  {
   "cell_type": "markdown",
   "id": "a4894c96",
   "metadata": {},
   "source": [
    "Else and Finally "
   ]
  },
  {
   "cell_type": "code",
   "execution_count": 138,
   "id": "03f66a22",
   "metadata": {},
   "outputs": [],
   "source": [
    "class NegativeZeroModelYear(Exception):\n",
    "    def __init__(self,value,message=\"Model year cannot be equal or greater than 2021\"):\n",
    "        self.value=value\n",
    "        self.message=message\n",
    "        super().__init__(self.message)\n",
    "    \n",
    "    def __str__(self):\n",
    "        return f'{self.message}-->{self.value}'\n",
    "class CarModeYearAsString(Exception):\n",
    "    #Exception if the car value comes as negative\n",
    "    def __init__(self,value,message=\"Model year can not be strings.Try Passing int values\"):\n",
    "        self.value=value\n",
    "        self.message=message\n",
    "        super().init__(self.message)\n",
    "    def __str__(self):\n",
    "        return f'{self.message}-->{self.value}'"
   ]
  },
  {
   "cell_type": "code",
   "execution_count": 139,
   "id": "970703ab",
   "metadata": {},
   "outputs": [],
   "source": [
    "class Vehicle():\n",
    "    def __init__(self,make,model,fuel):\n",
    "        self.make=make\n",
    "        self.model=model\n",
    "        self.fuel=fuel\n",
    "        self.current_year=2021\n",
    "        self.value=None\n",
    "    def get_value(self):\n",
    "        try:\n",
    "            if type(self.model)==str:\n",
    "                status=\"custom\"\n",
    "                raise CarModelYearAsString(self.model)\n",
    "            elif self.model>=self.current_year:\n",
    "                status=\"custom\"\n",
    "                raise NegativeZeroModelYear(self.model)\n",
    "            else:\n",
    "                self.age=self.current_year-self.model\n",
    "                self.value=1000*(1/self.age)\n",
    "                status=\"success\"\n",
    "        except TypeError:\n",
    "            self.age=self.current_year-int(self.model)\n",
    "            self.value=1000*(1/self.age)\n",
    "            status=\"inbuilt\"\n",
    "        else:\n",
    "            print(\"code ran without any exceptions\")\n",
    "        finally:\n",
    "            if status==\"custom\":\n",
    "                print(\"code has inbuilt exceptions\")\n",
    "            elif status==\"inbuilt\":\n",
    "                print(\"code has inbuilt exceptions,please rectify that\")\n",
    "            else:\n",
    "                print(\"The value without any exception\",self.value)"
   ]
  },
  {
   "cell_type": "code",
   "execution_count": 140,
   "id": "d832559b",
   "metadata": {},
   "outputs": [],
   "source": [
    "myobj=Vehicle(\"Tesla\",2019,\"electric\")"
   ]
  },
  {
   "cell_type": "code",
   "execution_count": 141,
   "id": "c1e9d75f",
   "metadata": {},
   "outputs": [
    {
     "name": "stdout",
     "output_type": "stream",
     "text": [
      "code ran without any exceptions\n",
      "The value without any exception 500.0\n"
     ]
    }
   ],
   "source": [
    "myobj.get_value()"
   ]
  }
 ],
 "metadata": {
  "kernelspec": {
   "display_name": "Python 3 (ipykernel)",
   "language": "python",
   "name": "python3"
  },
  "language_info": {
   "codemirror_mode": {
    "name": "ipython",
    "version": 3
   },
   "file_extension": ".py",
   "mimetype": "text/x-python",
   "name": "python",
   "nbconvert_exporter": "python",
   "pygments_lexer": "ipython3",
   "version": "3.8.5"
  }
 },
 "nbformat": 4,
 "nbformat_minor": 5
}
